{
 "cells": [
  {
   "cell_type": "markdown",
   "metadata": {},
   "source": [
    "# Insights - WeRateDogs Twitter Project\n",
    "\n",
    "## Context\n",
    "\n",
    "This project consists to wrangling (and analyzing and visualizing) a tweet archive of Twitter user @dog_rates, also known as WeRateDogs. WeRateDogs is a Twitter account that rates people's dogs with a humorous comment about the dog. These ratings almost always have a denominator of 10. The numerators, though? Almost always greater than 10. 11/10, 12/10, 13/10, etc. Why? Because \"they're good dogs Brent.\" WeRateDogs has over 4 million followers and has received international media coverage.\n",
    "\n",
    "The steps of project were:\n",
    "- Gathering data\n",
    "- Assessing data\n",
    "- Clean data\n",
    "- **Analyze data**\n",
    "\n",
    "This document is intended to share the insights identified after project execution.\n",
    "\n",
    "\n",
    "## Insights\n",
    "\n",
    "**What is the most common dogs breed in WeRateDogs posts?**\n",
    "\n",
    "![most_commom_dog_breed](./most_commom_dog_breed.png)\n",
    "\n",
    "Golden, Labrador and Pembroke are the most commom dog breed in WeRateDogs posts.\n",
    "\n",
    "**What are the breeds with the highest favorite and retweet ?**\n",
    "\n",
    "![most_commom_dog_breed](./dog_breed_favorite.png)\n",
    "\n",
    "![most_commom_dog_breed](./dog_breed_retweet.png)\n",
    "\n",
    "Although the breeds mentioned in the previous question have more posts, when we evaluate the popularity measures (favorite and retweets), we can identify that other breeds stand out, like:\n",
    "- Bedlington Terrier can be considered the most popular breed, as it appears as the second breed with most favorites and the breed with the highest number of retweets\n",
    "- Saluki\n",
    "- Afghan Hound\n",
    "- French Bulldog\n",
    "\n",
    "**What is the most common dogs stage (When does this information exist)?**\n",
    "\n",
    "![most_commom_dog_breed](./most_commom_dog_stage.png)\n",
    "\n",
    "From what it was possible to identify in the text, we see that most of the posts are related to puppos dog.\n",
    "\n",
    "**How are evaluations distribution ?**\n",
    "\n",
    "![most_commom_dog_breed](./evaluations_distribuition.png)\n",
    "\n",
    "Most dogs receive grades between 10 and 13"
   ]
  }
 ],
 "metadata": {
  "kernelspec": {
   "display_name": "Python 3",
   "language": "python",
   "name": "python3"
  },
  "language_info": {
   "codemirror_mode": {
    "name": "ipython",
    "version": 3
   },
   "file_extension": ".py",
   "mimetype": "text/x-python",
   "name": "python",
   "nbconvert_exporter": "python",
   "pygments_lexer": "ipython3",
   "version": "3.7.3"
  }
 },
 "nbformat": 4,
 "nbformat_minor": 4
}
