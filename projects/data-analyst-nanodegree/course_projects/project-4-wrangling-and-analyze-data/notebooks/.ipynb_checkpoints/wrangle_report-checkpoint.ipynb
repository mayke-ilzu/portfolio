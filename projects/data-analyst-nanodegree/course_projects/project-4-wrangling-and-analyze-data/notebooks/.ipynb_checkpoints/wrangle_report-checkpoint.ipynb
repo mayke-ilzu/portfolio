{
 "cells": [
  {
   "cell_type": "markdown",
   "metadata": {},
   "source": [
    "# Data Wrangling Steps - WeRateDogs Twitter Project\n",
    "\n",
    "For this project, the following data wrangling steps were made:\n",
    "\n",
    "### **Gathering data**\n",
    "\n",
    "Programmatically and manually download of files needed for the project. This files were:\n",
    "\n",
    "- The WeRateDogs Twitter archive\n",
    "\n",
    "- The tweet image predictions, i.e., what breed of dog (or other object, animal, etc.) is present in each tweet according to a neural network. This file (image_predictions.tsv) is hosted on Udacity's servers and should be downloaded programmatically using the Requests library and the following URL: https://d17h27t6h515a5.cloudfront.net/topher/2017/August/599fd2ad_image-predictions/image-predictions.tsv\n",
    "\n",
    "- Additional data would need to be gather through the twitter api, but as I couldn't get this access I decided to follow the alternative way provided by Udacity. This altertative is:\n",
    "    - Copy and paste api code in notebook to documentate\n",
    "    - Read the text file provided by Udacity\n",
    "\n",
    "### **Assessing data**\n",
    "\n",
    "Programmatically and visual analysis to identify quality and tideness issues on the data. The issues identified were:\n",
    "\n",
    "\n",
    "**WeRateDogs Twitter archive**\n",
    "\n",
    "Quality issues:\n",
    "- Columns names that do not express the data well\n",
    "- The dog stages columns is not accurate\n",
    "- There are no columns for dog stages snoot and blep (Missing data)\n",
    "- Rating denominator less or greather then 10\n",
    "- The source column is with html tag text\n",
    "- The timestamp column as an object instead of a date\n",
    "- We have retweets and in replies\n",
    "\n",
    "Tidiness issues\n",
    "- All dog stage columns can become a single column\n",
    "\n",
    "**Tweet image predictions**\n",
    "\n",
    "Quality issues:\n",
    "- The predicted name is without pattern: some with underline, others with dash and also tiny\n",
    "- There are tweets where it was not possible to predict the breed of the dog in any of the images\n",
    "- In some cases p1_conf is not a dog but p2_conf or p3_conf can be dog\n",
    "\n",
    "**Additional data from Twitter**\n",
    "\n",
    "Tidiness issues\n",
    "- The id column is not in the same name pattern as the other dataframes\n",
    "\n",
    "**General tidiness issues**\n",
    "\n",
    "- The data is segmented into 3 separate files although there is the same observational unit\n",
    "\n",
    "\n",
    "### **Clean data**\n",
    "\n",
    "Programmatically and manually cleaning data for issues identified at the assessing data step."
   ]
  }
 ],
 "metadata": {
  "kernelspec": {
   "display_name": "Python 3",
   "language": "python",
   "name": "python3"
  },
  "language_info": {
   "codemirror_mode": {
    "name": "ipython",
    "version": 3
   },
   "file_extension": ".py",
   "mimetype": "text/x-python",
   "name": "python",
   "nbconvert_exporter": "python",
   "pygments_lexer": "ipython3",
   "version": "3.7.3"
  }
 },
 "nbformat": 4,
 "nbformat_minor": 4
}
